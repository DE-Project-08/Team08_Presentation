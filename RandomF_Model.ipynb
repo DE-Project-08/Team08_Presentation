{
 "cells": [
  {
   "cell_type": "code",
   "execution_count": 4,
   "id": "d254044c-c155-461f-a73c-2cc41c1e889a",
   "metadata": {},
   "outputs": [
    {
     "name": "stdout",
     "output_type": "stream",
     "text": [
      "✅ Model Accuracy: 100.00%\n",
      "✅ Model saved locally as tesla_model_fixed.pkl\n",
      "✅ Model uploaded to s3://tesla-stock-sentiment-analysis/tesla_model.pkl\n"
     ]
    }
   ],
   "source": [
    "import pandas as pd\n",
    "from sklearn.model_selection import train_test_split\n",
    "from sklearn.ensemble import RandomForestClassifier\n",
    "from sklearn.metrics import accuracy_score\n",
    "import joblib\n",
    "import boto3\n",
    "\n",
    "# ✅ Step 1: Load cleaned dataset from S3\n",
    "s3_path = \"s3://tesla-stock-sentiment-analysis/tesla_balanced_training_data.csv\"\n",
    "df = pd.read_csv(s3_path)\n",
    "\n",
    "# ✅ Step 2: Add new key feature\n",
    "df['PriceChange'] = df['Close'] - df['Open']\n",
    "\n",
    "# ✅ Step 3: Prepare feature and label sets\n",
    "X = df[['Open', 'Close', 'Volume', 'SentimentScore', 'PriceChange']]\n",
    "y = df['Label']\n",
    "\n",
    "# ✅ Step 4: Split into training and testing\n",
    "X_train, X_test, y_train, y_test = train_test_split(X, y, test_size=0.2, random_state=42)\n",
    "\n",
    "# ✅ Step 5: Train RandomForest model\n",
    "model = RandomForestClassifier(n_estimators=200, max_depth=10, random_state=42)\n",
    "model.fit(X_train, y_train)\n",
    "\n",
    "# ✅ Step 6: Evaluate\n",
    "y_pred = model.predict(X_test)\n",
    "accuracy = accuracy_score(y_test, y_pred)\n",
    "print(f\"✅ Model Accuracy: {accuracy:.2%}\")\n",
    "\n",
    "# ✅ Step 7: Save the model locally\n",
    "local_file = \"tesla_model_fixed.pkl\"\n",
    "joblib.dump(model, local_file)\n",
    "print(f\"✅ Model saved locally as {local_file}\")\n",
    "\n",
    "# ✅ Step 8: Upload to S3\n",
    "bucket = \"tesla-stock-sentiment-analysis\"\n",
    "s3_key = \"tesla_model.pkl\"\n",
    "\n",
    "s3 = boto3.client('s3')\n",
    "s3.upload_file(local_file, bucket, s3_key)\n",
    "print(f\"✅ Model uploaded to s3://{bucket}/{s3_key}\")\n",
    "\n"
   ]
  },
  {
   "cell_type": "code",
   "execution_count": null,
   "id": "4ae64e8e-4b1d-42b5-8714-34cc1c0a6865",
   "metadata": {},
   "outputs": [],
   "source": []
  }
 ],
 "metadata": {
  "kernelspec": {
   "display_name": "Python 3 (ipykernel)",
   "language": "python",
   "name": "python3"
  },
  "language_info": {
   "codemirror_mode": {
    "name": "ipython",
    "version": 3
   },
   "file_extension": ".py",
   "mimetype": "text/x-python",
   "name": "python",
   "nbconvert_exporter": "python",
   "pygments_lexer": "ipython3",
   "version": "3.12.9"
  }
 },
 "nbformat": 4,
 "nbformat_minor": 5
}
