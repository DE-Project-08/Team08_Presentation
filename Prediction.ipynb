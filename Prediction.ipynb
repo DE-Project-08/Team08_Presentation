{
 "cells": [
  {
   "cell_type": "code",
   "execution_count": 19,
   "id": "486e4344-8330-4cff-b04f-1db251444ca0",
   "metadata": {},
   "outputs": [
    {
     "name": "stdout",
     "output_type": "stream",
     "text": [
      "✅ Model loaded from S3 successfully!\n"
     ]
    }
   ],
   "source": [
    "import boto3\n",
    "import joblib\n",
    "\n",
    "bucket_name = \"tesla-stock-sentiment-analysis\"\n",
    "s3_key = \"tesla_model.pkl\"\n",
    "local_model_file = \"tesla_model_downloaded.pkl\"\n",
    "\n",
    "# Download from S3\n",
    "s3 = boto3.client('s3')\n",
    "s3.download_file(bucket_name, s3_key, local_model_file)\n",
    "\n",
    "# Load model\n",
    "model = joblib.load(local_model_file)\n",
    "print(\"✅ Model loaded from S3 successfully!\")\n"
   ]
  },
  {
   "cell_type": "code",
   "execution_count": 1,
   "id": "bbbbd670-b891-4fac-a6ce-866480f997b4",
   "metadata": {},
   "outputs": [
    {
     "name": "stdout",
     "output_type": "stream",
     "text": [
      "✅ Model loaded from S3 successfully!\n"
     ]
    },
    {
     "name": "stdin",
     "output_type": "stream",
     "text": [
      "Enter TODAY's OPEN price:  238.16\n",
      "Enter TODAY's CLOSE price:  237.82\n",
      "Enter TODAY's VOLUME:  4940000\n"
     ]
    },
    {
     "name": "stdout",
     "output_type": "stream",
     "text": [
      "\n",
      "🔮 Prediction for TOMORROW:\n",
      "📉 Tesla stock is predicted to go DOWN 📉\n"
     ]
    }
   ],
   "source": [
    "import pandas as pd\n",
    "import joblib\n",
    "import boto3\n",
    "\n",
    "# ✅ Step 1: Load model from S3\n",
    "bucket_name = \"tesla-stock-sentiment-analysis\"\n",
    "s3_key = \"tesla_model.pkl\"\n",
    "local_model_file = \"tesla_model_downloaded.pkl\"\n",
    "\n",
    "s3 = boto3.client('s3')\n",
    "s3.download_file(bucket_name, s3_key, local_model_file)\n",
    "model = joblib.load(local_model_file)\n",
    "print(\"✅ Model loaded from S3 successfully!\")\n",
    "\n",
    "# ✅ Step 2: Ask user for TODAY's market input\n",
    "try:\n",
    "    open_price = float(input(\"Enter TODAY's OPEN price: \"))\n",
    "    close_price = float(input(\"Enter TODAY's CLOSE price: \"))\n",
    "    volume = int(input(\"Enter TODAY's VOLUME: \"))\n",
    "except ValueError:\n",
    "    print(\"⚠️ Please enter valid numbers.\")\n",
    "    raise SystemExit\n",
    "\n",
    "# ✅ Step 3: Auto-compute remaining features\n",
    "price_change = close_price - open_price\n",
    "sentiment_score = 0.4 if price_change > 0 else -0.3  # simple rule for now\n",
    "\n",
    "# ✅ Step 4: Prepare DataFrame for prediction\n",
    "input_data = pd.DataFrame([{\n",
    "    'Open': open_price,\n",
    "    'Close': close_price,\n",
    "    'Volume': volume,\n",
    "    'SentimentScore': sentiment_score,\n",
    "    'PriceChange': price_change\n",
    "}])\n",
    "\n",
    "# Reorder columns to match training\n",
    "input_data = input_data[['Open', 'Close', 'Volume', 'SentimentScore', 'PriceChange']]\n",
    "\n",
    "# ✅ Step 5: Predict tomorrow's trend\n",
    "prediction = model.predict(input_data)[0]\n",
    "\n",
    "# ✅ Step 6: Show prediction\n",
    "print(\"\\n🔮 Prediction for TOMORROW:\")\n",
    "if prediction == 1:\n",
    "    print(\"📈 Tesla stock is predicted to go UP 🚀\")\n",
    "else:\n",
    "    print(\"📉 Tesla stock is predicted to go DOWN 📉\")\n"
   ]
  },
  {
   "cell_type": "code",
   "execution_count": null,
   "id": "afd7e480-736c-471b-9f70-e99472135ff4",
   "metadata": {},
   "outputs": [],
   "source": []
  }
 ],
 "metadata": {
  "kernelspec": {
   "display_name": "Python 3 (ipykernel)",
   "language": "python",
   "name": "python3"
  },
  "language_info": {
   "codemirror_mode": {
    "name": "ipython",
    "version": 3
   },
   "file_extension": ".py",
   "mimetype": "text/x-python",
   "name": "python",
   "nbconvert_exporter": "python",
   "pygments_lexer": "ipython3",
   "version": "3.12.9"
  }
 },
 "nbformat": 4,
 "nbformat_minor": 5
}
